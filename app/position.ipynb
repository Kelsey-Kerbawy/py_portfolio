{
 "cells": [
  {
   "cell_type": "code",
   "execution_count": 1,
   "metadata": {},
   "outputs": [],
   "source": [
    "import pandas as pd\n",
    "import inputs \n",
    "from core.position import position_holding_returns, position_historical_returns\n",
    "from core.statistics import *\n",
    "from core.performance import *\n",
    "from core.logic import Momentum"
   ]
  },
  {
   "cell_type": "code",
   "execution_count": 2,
   "metadata": {},
   "outputs": [
    {
     "name": "stdout",
     "output_type": "stream",
     "text": [
      "[*********************100%***********************]  3 of 3 completed\n",
      "[*********************100%***********************]  1 of 1 completed\n",
      "[*********************100%***********************]  3 of 3 completed\n",
      "[*********************100%***********************]  1 of 1 completed\n"
     ]
    },
    {
     "data": {
      "text/plain": [
       "position   -0.146056\n",
       "^GSPC      -0.083380\n",
       "Name: 2022-08-01, dtype: float64"
      ]
     },
     "execution_count": 2,
     "metadata": {},
     "output_type": "execute_result"
    }
   ],
   "source": [
    "position_df = pd.read_excel(inputs.POSITION_PATH, index_col = 0)\n",
    "\n",
    "historical_returns_df = position_historical_returns(inputs.MARKET,position_df.index.values.tolist(),position_df['actual_weights'].tolist(),period=inputs.PERIOD)\n",
    "\n",
    "holding_returns_df = position_holding_returns(inputs.MARKET,position_df.index.values.tolist(),position_df['actual_weights'].tolist(),inputs.POSITION_PURCHASE_DATE)\n",
    "\n",
    "holding_cumulative_returns_df = cumulative_returns(holding_returns_df)\n",
    "\n",
    "holding_cumulative_returns_s = holding_cumulative_returns_df.iloc[-1] -1\n",
    "\n",
    "holding_cumulative_returns_s"
   ]
  },
  {
   "cell_type": "code",
   "execution_count": 3,
   "metadata": {},
   "outputs": [
    {
     "data": {
      "text/html": [
       "<div>\n",
       "<style scoped>\n",
       "    .dataframe tbody tr th:only-of-type {\n",
       "        vertical-align: middle;\n",
       "    }\n",
       "\n",
       "    .dataframe tbody tr th {\n",
       "        vertical-align: top;\n",
       "    }\n",
       "\n",
       "    .dataframe thead th {\n",
       "        text-align: right;\n",
       "    }\n",
       "</style>\n",
       "<table border=\"1\" class=\"dataframe\">\n",
       "  <thead>\n",
       "    <tr style=\"text-align: right;\">\n",
       "      <th></th>\n",
       "      <th>samplereject</th>\n",
       "    </tr>\n",
       "  </thead>\n",
       "  <tbody>\n",
       "    <tr>\n",
       "      <th>position</th>\n",
       "      <td>False</td>\n",
       "    </tr>\n",
       "    <tr>\n",
       "      <th>^GSPC</th>\n",
       "      <td>False</td>\n",
       "    </tr>\n",
       "  </tbody>\n",
       "</table>\n",
       "</div>"
      ],
      "text/plain": [
       "          samplereject\n",
       "position         False\n",
       "^GSPC            False"
      ]
     },
     "execution_count": 3,
     "metadata": {},
     "output_type": "execute_result"
    }
   ],
   "source": [
    "pop_stats_df = population_stats(historical_returns_df)\n",
    "sample_stats_df  = sample_stats(holding_returns_df,inputs.POSITION_PURCHASE_DATE)\n",
    "\n",
    "hypothesis_df = hypothesis_test(sample_stats_df,pop_stats_df)\n",
    "\n",
    "hypothesis_df\n"
   ]
  },
  {
   "cell_type": "code",
   "execution_count": 4,
   "metadata": {},
   "outputs": [
    {
     "data": {
      "text/plain": [
       "False"
      ]
     },
     "execution_count": 4,
     "metadata": {},
     "output_type": "execute_result"
    }
   ],
   "source": [
    "comparison_dct = regression_comparison(historical_returns_df,holding_returns_df,inputs.MARKET)\n",
    "\n",
    "comparison_dct\n",
    "\n",
    "is_beta_rebalance_tactical = Momentum.smart_beta_signal(comparison_dct['comparison_df'],comparison_dct['recent_period_return'])\n",
    "\n",
    "is_beta_rebalance_tactical"
   ]
  },
  {
   "cell_type": "code",
   "execution_count": 5,
   "metadata": {},
   "outputs": [
    {
     "data": {
      "text/plain": [
       "False"
      ]
     },
     "execution_count": 5,
     "metadata": {},
     "output_type": "execute_result"
    }
   ],
   "source": [
    "is_alpha_rebalance_tactical = Momentum.smart_alpha_signal(comparison_dct['comparison_df'],comparison_dct['recent_period_return'])\n",
    "\n",
    "is_alpha_rebalance_tactical"
   ]
  },
  {
   "cell_type": "code",
   "execution_count": 6,
   "metadata": {},
   "outputs": [
    {
     "data": {
      "text/plain": [
       "False"
      ]
     },
     "execution_count": 6,
     "metadata": {},
     "output_type": "execute_result"
    }
   ],
   "source": [
    "pred_comparison_dct = prediction_comparison(historical_returns_df, holding_returns_df,inputs.MARKET)\n",
    "\n",
    "is_prediction_rebalance_tactical = Momentum.prediction_signal(pred_comparison_dct['comparison_df'],pred_comparison_dct['recent_period_return'])\n",
    "\n",
    "is_prediction_rebalance_tactical"
   ]
  },
  {
   "cell_type": "code",
   "execution_count": 7,
   "metadata": {},
   "outputs": [
    {
     "data": {
      "text/plain": [
       "1.6171621908934504"
      ]
     },
     "execution_count": 7,
     "metadata": {},
     "output_type": "execute_result"
    }
   ],
   "source": [
    "timing = TM_timing(holding_returns_df,inputs.MARKET)\n",
    "\n",
    "timing"
   ]
  }
 ],
 "metadata": {
  "kernelspec": {
   "display_name": "Python 3.9.6 ('.venv': venv)",
   "language": "python",
   "name": "python3"
  },
  "language_info": {
   "codemirror_mode": {
    "name": "ipython",
    "version": 3
   },
   "file_extension": ".py",
   "mimetype": "text/x-python",
   "name": "python",
   "nbconvert_exporter": "python",
   "pygments_lexer": "ipython3",
   "version": "3.9.6"
  },
  "orig_nbformat": 4,
  "vscode": {
   "interpreter": {
    "hash": "cc675355bff5b26f92c5f69e1aca057f0a0ca4de002ca6b164c6f8f7b42516ab"
   }
  }
 },
 "nbformat": 4,
 "nbformat_minor": 2
}
