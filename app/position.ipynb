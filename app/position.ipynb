{
 "cells": [
  {
   "cell_type": "code",
   "execution_count": 1,
   "metadata": {},
   "outputs": [],
   "source": [
    "import pandas as pd\n",
    "import inputs \n",
    "from core.position import position_holding_returns, position_historical_returns\n",
    "from core.statistics import *\n",
    "from core.performance import *\n",
    "from core.logic import Momentum"
   ]
  },
  {
   "cell_type": "code",
   "execution_count": 2,
   "metadata": {},
   "outputs": [
    {
     "name": "stdout",
     "output_type": "stream",
     "text": [
      "[*********************100%***********************]  2 of 2 completed\n",
      "[*********************100%***********************]  1 of 1 completed\n",
      "[*********************100%***********************]  2 of 2 completed\n",
      "[*********************100%***********************]  1 of 1 completed\n"
     ]
    },
    {
     "data": {
      "text/html": [
       "<div>\n",
       "<style scoped>\n",
       "    .dataframe tbody tr th:only-of-type {\n",
       "        vertical-align: middle;\n",
       "    }\n",
       "\n",
       "    .dataframe tbody tr th {\n",
       "        vertical-align: top;\n",
       "    }\n",
       "\n",
       "    .dataframe thead th {\n",
       "        text-align: right;\n",
       "    }\n",
       "</style>\n",
       "<table border=\"1\" class=\"dataframe\">\n",
       "  <thead>\n",
       "    <tr style=\"text-align: right;\">\n",
       "      <th></th>\n",
       "      <th>position</th>\n",
       "      <th>^RUA</th>\n",
       "    </tr>\n",
       "    <tr>\n",
       "      <th>Date</th>\n",
       "      <th></th>\n",
       "      <th></th>\n",
       "    </tr>\n",
       "  </thead>\n",
       "  <tbody>\n",
       "    <tr>\n",
       "      <th>2021-03-11</th>\n",
       "      <td>0.047909</td>\n",
       "      <td>0.012878</td>\n",
       "    </tr>\n",
       "    <tr>\n",
       "      <th>2021-03-12</th>\n",
       "      <td>0.012705</td>\n",
       "      <td>0.001374</td>\n",
       "    </tr>\n",
       "    <tr>\n",
       "      <th>2021-03-15</th>\n",
       "      <td>0.008514</td>\n",
       "      <td>0.007085</td>\n",
       "    </tr>\n",
       "    <tr>\n",
       "      <th>2021-03-16</th>\n",
       "      <td>0.000361</td>\n",
       "      <td>-0.003661</td>\n",
       "    </tr>\n",
       "    <tr>\n",
       "      <th>2021-03-17</th>\n",
       "      <td>-0.021587</td>\n",
       "      <td>0.003177</td>\n",
       "    </tr>\n",
       "    <tr>\n",
       "      <th>...</th>\n",
       "      <td>...</td>\n",
       "      <td>...</td>\n",
       "    </tr>\n",
       "    <tr>\n",
       "      <th>2023-03-03</th>\n",
       "      <td>0.051749</td>\n",
       "      <td>0.016014</td>\n",
       "    </tr>\n",
       "    <tr>\n",
       "      <th>2023-03-06</th>\n",
       "      <td>0.010414</td>\n",
       "      <td>-0.001377</td>\n",
       "    </tr>\n",
       "    <tr>\n",
       "      <th>2023-03-07</th>\n",
       "      <td>0.006074</td>\n",
       "      <td>-0.014719</td>\n",
       "    </tr>\n",
       "    <tr>\n",
       "      <th>2023-03-08</th>\n",
       "      <td>0.002003</td>\n",
       "      <td>0.001223</td>\n",
       "    </tr>\n",
       "    <tr>\n",
       "      <th>2023-03-09</th>\n",
       "      <td>-0.012728</td>\n",
       "      <td>0.000000</td>\n",
       "    </tr>\n",
       "  </tbody>\n",
       "</table>\n",
       "<p>503 rows × 2 columns</p>\n",
       "</div>"
      ],
      "text/plain": [
       "            position      ^RUA\n",
       "Date                          \n",
       "2021-03-11  0.047909  0.012878\n",
       "2021-03-12  0.012705  0.001374\n",
       "2021-03-15  0.008514  0.007085\n",
       "2021-03-16  0.000361 -0.003661\n",
       "2021-03-17 -0.021587  0.003177\n",
       "...              ...       ...\n",
       "2023-03-03  0.051749  0.016014\n",
       "2023-03-06  0.010414 -0.001377\n",
       "2023-03-07  0.006074 -0.014719\n",
       "2023-03-08  0.002003  0.001223\n",
       "2023-03-09 -0.012728  0.000000\n",
       "\n",
       "[503 rows x 2 columns]"
      ]
     },
     "execution_count": 2,
     "metadata": {},
     "output_type": "execute_result"
    }
   ],
   "source": [
    "position_df = pd.read_csv(inputs.POSITION_PATH, index_col = 0)\n",
    "\n",
    "historical_returns_df = position_historical_returns(inputs.MARKET,position_df.index.values.tolist(),position_df['actual_weights'].tolist(),period=inputs.PERIOD)\n",
    "\n",
    "holding_returns_df = position_holding_returns(inputs.MARKET,position_df.index.values.tolist(),position_df['actual_weights'].tolist(),inputs.POSITION_PURCHASE_DATE)\n",
    "\n",
    "holding_cumulative_returns_df = cumulative_returns(holding_returns_df)\n",
    "\n",
    "holding_cumulative_returns_s = holding_cumulative_returns_df.iloc[-1] -1\n",
    "\n",
    "historical_returns_df"
   ]
  },
  {
   "cell_type": "code",
   "execution_count": 3,
   "metadata": {},
   "outputs": [
    {
     "data": {
      "text/html": [
       "<div>\n",
       "<style scoped>\n",
       "    .dataframe tbody tr th:only-of-type {\n",
       "        vertical-align: middle;\n",
       "    }\n",
       "\n",
       "    .dataframe tbody tr th {\n",
       "        vertical-align: top;\n",
       "    }\n",
       "\n",
       "    .dataframe thead th {\n",
       "        text-align: right;\n",
       "    }\n",
       "</style>\n",
       "<table border=\"1\" class=\"dataframe\">\n",
       "  <thead>\n",
       "    <tr style=\"text-align: right;\">\n",
       "      <th></th>\n",
       "      <th>samplereject</th>\n",
       "    </tr>\n",
       "  </thead>\n",
       "  <tbody>\n",
       "    <tr>\n",
       "      <th>position</th>\n",
       "      <td>False</td>\n",
       "    </tr>\n",
       "    <tr>\n",
       "      <th>^RUA</th>\n",
       "      <td>False</td>\n",
       "    </tr>\n",
       "  </tbody>\n",
       "</table>\n",
       "</div>"
      ],
      "text/plain": [
       "          samplereject\n",
       "position         False\n",
       "^RUA             False"
      ]
     },
     "execution_count": 3,
     "metadata": {},
     "output_type": "execute_result"
    }
   ],
   "source": [
    "pop_stats_df = population_stats(historical_returns_df)\n",
    "sample_stats_df  = sample_stats(holding_returns_df,inputs.POSITION_PURCHASE_DATE)\n",
    "\n",
    "hypothesis_df = hypothesis_test(sample_stats_df,pop_stats_df)\n",
    "\n",
    "hypothesis_df\n"
   ]
  },
  {
   "cell_type": "code",
   "execution_count": 4,
   "metadata": {},
   "outputs": [
    {
     "data": {
      "text/html": [
       "<div>\n",
       "<style scoped>\n",
       "    .dataframe tbody tr th:only-of-type {\n",
       "        vertical-align: middle;\n",
       "    }\n",
       "\n",
       "    .dataframe tbody tr th {\n",
       "        vertical-align: top;\n",
       "    }\n",
       "\n",
       "    .dataframe thead th {\n",
       "        text-align: right;\n",
       "    }\n",
       "</style>\n",
       "<table border=\"1\" class=\"dataframe\">\n",
       "  <thead>\n",
       "    <tr style=\"text-align: right;\">\n",
       "      <th>tickers</th>\n",
       "      <th>historical_timeframe</th>\n",
       "      <th>holding_timeframe</th>\n",
       "      <th>before_purchase</th>\n",
       "    </tr>\n",
       "  </thead>\n",
       "  <tbody>\n",
       "    <tr>\n",
       "      <th>alpha</th>\n",
       "      <td>0.001948</td>\n",
       "      <td>0.006051</td>\n",
       "      <td>0.001547</td>\n",
       "    </tr>\n",
       "    <tr>\n",
       "      <th>betav</th>\n",
       "      <td>0.800741</td>\n",
       "      <td>1.258417</td>\n",
       "      <td>0.766574</td>\n",
       "    </tr>\n",
       "    <tr>\n",
       "      <th>alpha_t_stat</th>\n",
       "      <td>2.16387</td>\n",
       "      <td>1.429596</td>\n",
       "      <td>1.728061</td>\n",
       "    </tr>\n",
       "    <tr>\n",
       "      <th>beta_t_stat</th>\n",
       "      <td>11.170888</td>\n",
       "      <td>3.197274</td>\n",
       "      <td>10.92389</td>\n",
       "    </tr>\n",
       "    <tr>\n",
       "      <th>skewness</th>\n",
       "      <td>0.564</td>\n",
       "      <td>1.336</td>\n",
       "      <td>0.230</td>\n",
       "    </tr>\n",
       "    <tr>\n",
       "      <th>kurtoses</th>\n",
       "      <td>8.082</td>\n",
       "      <td>10.576</td>\n",
       "      <td>6.247</td>\n",
       "    </tr>\n",
       "    <tr>\n",
       "      <th>betaub</th>\n",
       "      <td>0.941573</td>\n",
       "      <td>2.052168</td>\n",
       "      <td>0.904479</td>\n",
       "    </tr>\n",
       "    <tr>\n",
       "      <th>betalb</th>\n",
       "      <td>0.659908</td>\n",
       "      <td>0.464666</td>\n",
       "      <td>0.628669</td>\n",
       "    </tr>\n",
       "    <tr>\n",
       "      <th>alphalb</th>\n",
       "      <td>0.000179</td>\n",
       "      <td>-0.002485</td>\n",
       "      <td>-0.000212</td>\n",
       "    </tr>\n",
       "    <tr>\n",
       "      <th>alphaub</th>\n",
       "      <td>0.003717</td>\n",
       "      <td>0.014587</td>\n",
       "      <td>0.003306</td>\n",
       "    </tr>\n",
       "    <tr>\n",
       "      <th>epsilon</th>\n",
       "      <td>0.22553</td>\n",
       "      <td>0.090594</td>\n",
       "      <td>0.209268</td>\n",
       "    </tr>\n",
       "  </tbody>\n",
       "</table>\n",
       "</div>"
      ],
      "text/plain": [
       "tickers      historical_timeframe holding_timeframe before_purchase\n",
       "alpha                    0.001948          0.006051        0.001547\n",
       "betav                    0.800741          1.258417        0.766574\n",
       "alpha_t_stat              2.16387          1.429596        1.728061\n",
       "beta_t_stat             11.170888          3.197274        10.92389\n",
       "skewness                    0.564             1.336           0.230\n",
       "kurtoses                    8.082            10.576           6.247\n",
       "betaub                   0.941573          2.052168        0.904479\n",
       "betalb                   0.659908          0.464666        0.628669\n",
       "alphalb                  0.000179         -0.002485       -0.000212\n",
       "alphaub                  0.003717          0.014587        0.003306\n",
       "epsilon                   0.22553          0.090594        0.209268"
      ]
     },
     "execution_count": 4,
     "metadata": {},
     "output_type": "execute_result"
    }
   ],
   "source": [
    "comparison_dct = regression_comparison(historical_returns_df,holding_returns_df,inputs.MARKET)\n",
    "\n",
    "comparison_dct['comparison_df']"
   ]
  },
  {
   "cell_type": "code",
   "execution_count": 5,
   "metadata": {},
   "outputs": [
    {
     "data": {
      "text/plain": [
       "True"
      ]
     },
     "execution_count": 5,
     "metadata": {},
     "output_type": "execute_result"
    }
   ],
   "source": [
    "is_beta_rebalance_tactical = Momentum.smart_beta_signal(comparison_dct['comparison_df'],comparison_dct['recent_period_return'])\n",
    "\n",
    "is_beta_rebalance_tactical"
   ]
  },
  {
   "cell_type": "code",
   "execution_count": 6,
   "metadata": {},
   "outputs": [
    {
     "data": {
      "text/plain": [
       "False"
      ]
     },
     "execution_count": 6,
     "metadata": {},
     "output_type": "execute_result"
    }
   ],
   "source": [
    "is_alpha_rebalance_tactical = Momentum.smart_alpha_signal(comparison_dct['comparison_df'],comparison_dct['recent_period_return'])\n",
    "\n",
    "is_alpha_rebalance_tactical"
   ]
  },
  {
   "cell_type": "code",
   "execution_count": 7,
   "metadata": {},
   "outputs": [
    {
     "data": {
      "text/plain": [
       "False"
      ]
     },
     "execution_count": 7,
     "metadata": {},
     "output_type": "execute_result"
    }
   ],
   "source": [
    "pred_comparison_dct = prediction_comparison(historical_returns_df, holding_returns_df,inputs.MARKET)\n",
    "\n",
    "is_prediction_rebalance_tactical = Momentum.prediction_signal(pred_comparison_dct['comparison_df'],pred_comparison_dct['recent_period_return'])\n",
    "\n",
    "is_prediction_rebalance_tactical"
   ]
  },
  {
   "cell_type": "code",
   "execution_count": 8,
   "metadata": {},
   "outputs": [
    {
     "data": {
      "text/plain": [
       "-4.14918642944169"
      ]
     },
     "execution_count": 8,
     "metadata": {},
     "output_type": "execute_result"
    }
   ],
   "source": [
    "timing = TM_timing(holding_returns_df,inputs.MARKET)\n",
    "\n",
    "timing"
   ]
  }
 ],
 "metadata": {
  "kernelspec": {
   "display_name": "Python 3.9.6 ('.venv': venv)",
   "language": "python",
   "name": "python3"
  },
  "language_info": {
   "codemirror_mode": {
    "name": "ipython",
    "version": 3
   },
   "file_extension": ".py",
   "mimetype": "text/x-python",
   "name": "python",
   "nbconvert_exporter": "python",
   "pygments_lexer": "ipython3",
   "version": "3.9.6"
  },
  "orig_nbformat": 4,
  "vscode": {
   "interpreter": {
    "hash": "cc675355bff5b26f92c5f69e1aca057f0a0ca4de002ca6b164c6f8f7b42516ab"
   }
  }
 },
 "nbformat": 4,
 "nbformat_minor": 2
}
